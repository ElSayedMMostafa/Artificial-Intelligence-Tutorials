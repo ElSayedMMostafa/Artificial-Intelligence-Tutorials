{
 "cells": [
  {
   "cell_type": "markdown",
   "metadata": {
    "id": "SFkTn5PKgebW"
   },
   "source": [
    "![alt text](https://zewailcity.edu.eg/main/images/logo3.png)\n",
    "\n",
    "_Prepared by_  [**Muhammad Hamdy AlAref**](mailto:malaref@zewailcity.edu.eg)"
   ]
  },
  {
   "cell_type": "markdown",
   "metadata": {
    "id": "F7FzI2o-8Trc"
   },
   "source": [
    "# Adversarial Search\n",
    "\n",
    "Adversarial search algorithms are algorithms that try solving problems where other agents exist and may plan against us; also referred to as *games*!"
   ]
  },
  {
   "cell_type": "markdown",
   "metadata": {
    "id": "jvuLSRhVtMOI"
   },
   "source": [
    "## Game Formulation\n",
    "\n",
    "Game formulation is very similar to *problem formulation* that we discussed before. This time with multiple agents (players)!"
   ]
  },
  {
   "cell_type": "code",
   "execution_count": 2,
   "metadata": {
    "id": "IRHfjGsEuMb-"
   },
   "outputs": [],
   "source": [
    "class Game:\n",
    "    '''\n",
    "    Abstract game class for game formulation.\n",
    "    It declares the expected methods to be used by an adversarial search algorithm.\n",
    "    All the methods declared are just placeholders that throw errors if not overriden by child \"concrete\" classes!\n",
    "    '''\n",
    "    \n",
    "    def __init__(self):\n",
    "        '''Constructor that initializes the game. Typically used to setup the initial state, number of players and, if applicable, the terminal states and their utilities.'''\n",
    "        self.init_state = None\n",
    "    \n",
    "    def player(self, state):\n",
    "        '''Returns the player whose turn it is.'''\n",
    "        raise NotImplementedError\n",
    "    \n",
    "    def actions(self, state):\n",
    "        '''Returns an iterable with the applicable actions to the given state.'''\n",
    "        raise NotImplementedError\n",
    "    \n",
    "    def result(self, state, action):\n",
    "        '''Returns the resulting state from applying the given action to the given state.'''\n",
    "        raise NotImplementedError\n",
    "    \n",
    "    def terminal_test(self, state):\n",
    "        '''Returns whether or not the given state is a terminal state.'''\n",
    "        raise NotImplementedError\n",
    "    \n",
    "    def utility(self, state, player):\n",
    "        '''Returns the utility of the given state for the given player, if possible (usually, it has to be a terminal state).'''\n",
    "        raise NotImplementedError"
   ]
  },
  {
   "cell_type": "markdown",
   "metadata": {
    "id": "L8dTbakevdcW"
   },
   "source": [
    "## Example: Tic-Tac-Toe\n",
    "\n",
    "Let's try formulating the quite well-known game [tic-tac-toe](https://en.wikipedia.org/wiki/Tic-tac-toe)!"
   ]
  },
  {
   "cell_type": "code",
   "execution_count": 3,
   "metadata": {
    "id": "PELY8wsjz74L"
   },
   "outputs": [],
   "source": [
    "class TicTacToe(Game):\n",
    "    '''Tic-tac-toe game formulation.'''\n",
    "    \n",
    "    PLAYERS = ('X', 'O')\n",
    "    \n",
    "    def _won(self, state, player):\n",
    "        '''Auxiliary function for checking if a player has won.'''\n",
    "        # Any row has 3 symbols of the player's\n",
    "        for row in range(3):\n",
    "            won = True\n",
    "            for column in range(3):\n",
    "                if state[row][column] is not player:\n",
    "                    won = False\n",
    "                    break\n",
    "            if won: return True\n",
    "        # Any column has 3 symbols of the player's\n",
    "        for column in range(3):\n",
    "            won = True\n",
    "            for row in range(3):\n",
    "                if state[row][column] is not player:\n",
    "                    won = False\n",
    "                    break\n",
    "            if won: return True\n",
    "        # Diagonal has 3 symbols of the player's\n",
    "        won = True\n",
    "        for i in range(3):\n",
    "            if state[i][i] is not player:\n",
    "                won = False\n",
    "                break\n",
    "        if won: return True\n",
    "        # Diagonal has 3 symbols of the player's\n",
    "        won = True\n",
    "        for i in range(3):\n",
    "            if state[i][2-i] is not player:\n",
    "                won = False\n",
    "                break\n",
    "        if won: return True\n",
    "        # If none of the above\n",
    "        return False\n",
    "    \n",
    "    def __init__(self):\n",
    "        # The state is a 3x3 matrix\n",
    "        self.init_state = ((None,) * 3,) * 3\n",
    "    \n",
    "    def player(self, state):\n",
    "        Xs, Os = 0, 0\n",
    "        for row in state:\n",
    "            Xs += row.count(TicTacToe.PLAYERS[0])\n",
    "            Os += row.count(TicTacToe.PLAYERS[1])\n",
    "        if Xs == Os:  return TicTacToe.PLAYERS[0]\n",
    "        elif Xs > Os: return TicTacToe.PLAYERS[1]\n",
    "    \n",
    "    def actions(self, state):\n",
    "        actions_list = []\n",
    "        for i, row in enumerate(state):\n",
    "            for j, cell in enumerate(row):\n",
    "                if not cell:\n",
    "                    actions_list.append((i, j))\n",
    "        return actions_list\n",
    "    \n",
    "    def result(self, state, action):\n",
    "        mutable_grid = list(state)\n",
    "        mutable_row = list(mutable_grid[action[0]])\n",
    "        mutable_row[action[1]] = self.player(state)\n",
    "        mutable_grid[action[0]] = tuple(mutable_row)\n",
    "        return tuple(mutable_grid)\n",
    "    \n",
    "    def terminal_test(self, state):\n",
    "        all_filled = True\n",
    "        for row in range(3):\n",
    "            if not all_filled: break\n",
    "            for column in range(3):\n",
    "                if state[row][column] is None:\n",
    "                    all_filled = False\n",
    "                    break\n",
    "        if all_filled: return True\n",
    "        for player in TicTacToe.PLAYERS:\n",
    "            if self._won(state, player):\n",
    "                return True\n",
    "        return False\n",
    "    \n",
    "    def utility(self, state, player):\n",
    "        for p in TicTacToe.PLAYERS:\n",
    "            if self._won(state, p):\n",
    "                if p is player: return 1\n",
    "                else: return -1\n",
    "        return 0"
   ]
  },
  {
   "cell_type": "markdown",
   "metadata": {
    "id": "gt2v2Bej5LVG"
   },
   "source": [
    "## Minimax Algorithm\n",
    "\n",
    "Minimax algorithm is a recursive algorithm that returns the optimal move, provided the players play *optimally*, by doing a DFS search on the game tree."
   ]
  },
  {
   "cell_type": "code",
   "execution_count": 4,
   "metadata": {
    "id": "z1oegnEt5NKd"
   },
   "outputs": [],
   "source": [
    "from math import inf\n",
    "\n",
    "def minimax(game, state):\n",
    "    '''Minimax implementation.'''\n",
    "    player = game.player(state)\n",
    "    \n",
    "    def max_value(state):\n",
    "        if game.terminal_test(state): return game.utility(state, player)\n",
    "        maxi = -inf\n",
    "        for action in game.actions(state):\n",
    "            maxi = max(maxi, min_value(game.result(state, action)))\n",
    "        return maxi\n",
    "    \n",
    "    def min_value(state):\n",
    "        if game.terminal_test(state): return game.utility(state, player)\n",
    "        mini = +inf\n",
    "        for action in game.actions(state):\n",
    "            mini = min(mini, max_value(game.result(state, action)))\n",
    "        return mini\n",
    "    \n",
    "    best_action, best_value = None, None\n",
    "    for action in game.actions(state):\n",
    "        action_value = min_value(game.result(state, action))\n",
    "        if best_value is None or best_value < action_value:\n",
    "            best_action = action\n",
    "            best_value = action_value\n",
    "    return best_action"
   ]
  },
  {
   "cell_type": "markdown",
   "metadata": {
    "id": "0coGsQ1H_xN4"
   },
   "source": [
    "## Alpha-Beta Pruning\n",
    "\n",
    "Alpha-beta pruning is a modification to the minimax algorithm that prunes sub-trees that won't affect the decision making for a great speed-up!"
   ]
  },
  {
   "cell_type": "code",
   "execution_count": 5,
   "metadata": {
    "id": "F18ovpXJ_S_J"
   },
   "outputs": [],
   "source": [
    "from math import inf\n",
    "\n",
    "def alpha_beta(game, state):\n",
    "    '''Alpha-Beta Pruning implementation.'''\n",
    "    player = game.player(state)\n",
    "    \n",
    "    def max_value(state, alpha, beta):\n",
    "        if game.terminal_test(state): return game.utility(state, player)\n",
    "        maxi = -inf\n",
    "        for action in game.actions(state):\n",
    "            maxi = max(maxi, min_value(game.result(state, action), alpha, beta))\n",
    "            alpha = max(alpha, maxi)\n",
    "            if alpha >= beta: return maxi\n",
    "        return maxi\n",
    "    \n",
    "    def min_value(state, alpha, beta):\n",
    "        if game.terminal_test(state): return game.utility(state, player)\n",
    "        mini = +inf\n",
    "        for action in game.actions(state):\n",
    "            mini = min(mini, max_value(game.result(state, action), alpha, beta))\n",
    "            beta = min(beta, mini)\n",
    "            if alpha >= beta: return mini\n",
    "        return mini\n",
    "    \n",
    "    best_action, best_value = None, None\n",
    "    for action in game.actions(state):\n",
    "        action_value = min_value(game.result(state, action), -inf, +inf)\n",
    "        if best_value is None or best_value < action_value:\n",
    "            best_action = action\n",
    "            best_value = action_value\n",
    "    return best_action"
   ]
  },
  {
   "cell_type": "code",
   "execution_count": 6,
   "metadata": {
    "id": "zSAZ062A_cs0"
   },
   "outputs": [],
   "source": [
    "game = TicTacToe()"
   ]
  },
  {
   "cell_type": "code",
   "execution_count": 7,
   "metadata": {
    "colab": {
     "base_uri": "https://localhost:8080/"
    },
    "id": "o0Qab50TSe1n",
    "outputId": "dc60a16f-0fe9-404b-f771-84c2248ae550"
   },
   "outputs": [
    {
     "name": "stdout",
     "output_type": "stream",
     "text": [
      "X\tNone\tNone\t\n",
      "None\tNone\tNone\t\n",
      "None\tNone\tNone\t\n",
      "--------------------\n",
      "X\tNone\tNone\t\n",
      "None\tO\tNone\t\n",
      "None\tNone\tNone\t\n",
      "--------------------\n",
      "X\tX\tNone\t\n",
      "None\tO\tNone\t\n",
      "None\tNone\tNone\t\n",
      "--------------------\n",
      "X\tX\tO\t\n",
      "None\tO\tNone\t\n",
      "None\tNone\tNone\t\n",
      "--------------------\n",
      "X\tX\tO\t\n",
      "None\tO\tNone\t\n",
      "X\tNone\tNone\t\n",
      "--------------------\n",
      "X\tX\tO\t\n",
      "O\tO\tNone\t\n",
      "X\tNone\tNone\t\n",
      "--------------------\n",
      "X\tX\tO\t\n",
      "O\tO\tX\t\n",
      "X\tNone\tNone\t\n",
      "--------------------\n",
      "X\tX\tO\t\n",
      "O\tO\tX\t\n",
      "X\tO\tNone\t\n",
      "--------------------\n",
      "X\tX\tO\t\n",
      "O\tO\tX\t\n",
      "X\tO\tX\t\n",
      "--------------------\n"
     ]
    }
   ],
   "source": [
    "def visualize(state):\n",
    "    for row in state:\n",
    "        for cell in row:\n",
    "            print(cell, end='\\t')\n",
    "        print()\n",
    "    print('--------------------')\n",
    "\n",
    "state = game.init_state\n",
    "while(not game.terminal_test(state)):\n",
    "    action = minimax(game, state)\n",
    "    assert action == alpha_beta(game, state)\n",
    "    state = game.result(state, action)\n",
    "    visualize(state)"
   ]
  },
  {
   "cell_type": "markdown",
   "metadata": {
    "id": "T9K1JFg6HFH5"
   },
   "source": [
    "## Performance Comparison\n",
    "\n",
    "Now, let's compare the performance of alpha-beta pruning against the original minimax algorithm!"
   ]
  },
  {
   "cell_type": "code",
   "execution_count": null,
   "metadata": {
    "colab": {
     "base_uri": "https://localhost:8080/"
    },
    "id": "iuloGHMgEHB5",
    "outputId": "9ea7ae0b-8277-4a4c-f5e8-5cc6e907643c"
   },
   "outputs": [
    {
     "name": "stdout",
     "output_type": "stream",
     "text": [
      "(0, 0)\n",
      " "
     ]
    }
   ],
   "source": [
    "%prun print(minimax(game, game.init_state))"
   ]
  },
  {
   "cell_type": "code",
   "execution_count": null,
   "metadata": {
    "colab": {
     "base_uri": "https://localhost:8080/"
    },
    "id": "PbcoPy4eEZWS",
    "outputId": "5f7f6c14-466c-4905-eda4-72ad90604136"
   },
   "outputs": [
    {
     "name": "stdout",
     "output_type": "stream",
     "text": [
      "(0, 0)\n",
      " "
     ]
    }
   ],
   "source": [
    "%prun print(alpha_beta(game, game.init_state))"
   ]
  },
  {
   "cell_type": "markdown",
   "metadata": {
    "id": "mTmCsDEjeiDo"
   },
   "source": [
    "## Requirement\n",
    "\n",
    "Let's re-solve the tic-tac-toe game with heuristics!\n",
    "\n",
    "You are required to write Python code that implements the H-minimax (or H-alpha-beta) algorithm and apply it to the tic-tac-toe game and compare its performance with its regular implementation!\n",
    "\n",
    "**HINT:** You will need to edit (or inherit from) the `TicTacToe` class. You may use the heuristic evaluation function from exercise 3! $$Eval(s) = 3X_2(s)+X_1(s)-(3O_2(s) + O_1(s))$$\n",
    "\n",
    "**Estimated time for this exercise is 30 minutes!**"
   ]
  },
  {
   "cell_type": "code",
   "execution_count": 8,
   "metadata": {},
   "outputs": [
    {
     "name": "stdout",
     "output_type": "stream",
     "text": [
      "x\to\tx\t\n",
      "x\tNone\tx\t\n",
      "o\tNone\tNone\t\n",
      "--------------------\n",
      "X2 = 2, X1 = 1, O2 = 0, O1 = 2\n"
     ]
    }
   ],
   "source": [
    "def calc_Xn_and_On(state, PLAYERS):\n",
    "    '''\n",
    "    Calulcating X2,X1,O2,O1 used in the heuristic function\n",
    "    '''\n",
    "    # Creating a list of strings for the rows\n",
    "    s = [\"\".join(str(p) for p in _tuple).replace('None', ' ') for _tuple in state]\n",
    "    # Transposing the grid\n",
    "    sT = list(map(\"\".join, zip(*s)))\n",
    "    # Creating a list for the 2 diagonlas \n",
    "    sD = [\"\".join([s[0][0], s[1][1], s[2][2]]), \"\".join([s[0][2], s[1][1], s[2][0]])]\n",
    "    \n",
    "    def calc_Xn_or_On(player):\n",
    "        player2 = \"\".join(PLAYERS).replace(player, \"\")\n",
    "        # Calculate X2/O2 and X1/O1 on rows\n",
    "        X2_rows = sum([1 for i in range(3) if s[i].count(player)==2 and s[i].count(player2)==0])\n",
    "        X1_rows = sum([1 for i in range(3) if s[i].count(player)==1 and s[i].count(player2)==0])\n",
    "        # Calculate X2/O2 and X1/O1 on columns\n",
    "        X2_cols = sum([1 for i in range(3) if sT[i].count(player)==2 and sT[i].count(player2)==0])\n",
    "        X1_cols = sum([1 for i in range(3) if sT[i].count(player)==1 and sT[i].count(player2)==0])\n",
    "        # Calculate X2/O2 and X1/O1 on diagonlas\n",
    "        X2_diag = sum([1 for i in range(2) if sD[i].count(player)==2 and sD[i].count(player2)==0])\n",
    "        X1_diag = sum([1 for i in range(2) if sD[i].count(player)==1 and sD[i].count(player2)==0])\n",
    "        return (X2_rows + X2_cols + X2_diag, X1_rows + X1_cols + X1_diag)\n",
    "    \n",
    "    return calc_Xn_or_On(PLAYERS[0]), calc_Xn_or_On(PLAYERS[1])\n",
    "\n",
    "# For testing\n",
    "state = (('x','o','x'),('x',None, 'x'),('o',None,None))\n",
    "(X2,X1),(O2,O1) = calc_Xn_and_On(state, ('x', 'o'))\n",
    "\n",
    "visualize(state)\n",
    "print('X2 = {}, X1 = {}, O2 = {}, O1 = {}'.format(X2,X1,O2,O1))"
   ]
  },
  {
   "cell_type": "code",
   "execution_count": 21,
   "metadata": {},
   "outputs": [],
   "source": [
    "class TicTacToe_Heuristic(TicTacToe):\n",
    "    'Inheret the TicTacToe class with all its functions'\n",
    "    def utility(self, state, player, terminal_state = False):\n",
    "        if terminal_state: return super().utility(state, player)\n",
    "        (X2,X1),(O2,O1) = -1*calc_Xn_and_On(state, TicTacToe.PLAYERS)\n",
    "        return 3*X2 + X1 - (3*O2 + O1)"
   ]
  },
  {
   "cell_type": "code",
   "execution_count": 15,
   "metadata": {},
   "outputs": [],
   "source": [
    "def H_minimax(game, state, max_depth):\n",
    "    '''H-Minimax implementation.'''\n",
    "    \n",
    "    player = game.player(state)\n",
    "    def max_value(state, depth):\n",
    "        terminal_check = game.terminal_test(state)\n",
    "        if terminal_check or depth >= max_depth: return game.utility(state, player, terminal_check)\n",
    "        depth += 1\n",
    "        maxi = -inf\n",
    "        for action in game.actions(state):\n",
    "            maxi = max(maxi, min_value(game.result(state, action), depth))\n",
    "        return maxi\n",
    "    \n",
    "    def min_value(state, depth):\n",
    "        terminal_check = game.terminal_test(state)\n",
    "        if terminal_check or depth >= max_depth: return game.utility(state, player, terminal_check)\n",
    "        depth += 1\n",
    "        mini = +inf\n",
    "        for action in game.actions(state):\n",
    "            mini = min(mini, max_value(game.result(state, action), depth))\n",
    "        return mini\n",
    "    \n",
    "    best_action, best_value = None, None\n",
    "    for action in game.actions(state):\n",
    "        action_value = min_value(game.result(state, action), depth=1)\n",
    "        if best_value is None or best_value < action_value:\n",
    "            best_action = action\n",
    "            best_value = action_value\n",
    "    return best_action"
   ]
  },
  {
   "cell_type": "code",
   "execution_count": 22,
   "metadata": {},
   "outputs": [
    {
     "name": "stdout",
     "output_type": "stream",
     "text": [
      "X\tNone\tNone\t\n",
      "None\tNone\tNone\t\n",
      "None\tNone\tNone\t\n",
      "--------------------\n",
      "X\tNone\tNone\t\n",
      "None\tO\tNone\t\n",
      "None\tNone\tNone\t\n",
      "--------------------\n",
      "X\tX\tNone\t\n",
      "None\tO\tNone\t\n",
      "None\tNone\tNone\t\n",
      "--------------------\n",
      "X\tX\tO\t\n",
      "None\tO\tNone\t\n",
      "None\tNone\tNone\t\n",
      "--------------------\n",
      "X\tX\tO\t\n",
      "None\tO\tNone\t\n",
      "X\tNone\tNone\t\n",
      "--------------------\n",
      "X\tX\tO\t\n",
      "O\tO\tNone\t\n",
      "X\tNone\tNone\t\n",
      "--------------------\n",
      "X\tX\tO\t\n",
      "O\tO\tX\t\n",
      "X\tNone\tNone\t\n",
      "--------------------\n",
      "X\tX\tO\t\n",
      "O\tO\tX\t\n",
      "X\tO\tNone\t\n",
      "--------------------\n",
      "X\tX\tO\t\n",
      "O\tO\tX\t\n",
      "X\tO\tX\t\n",
      "--------------------\n"
     ]
    }
   ],
   "source": [
    "game = TicTacToe_Heuristic()\n",
    "state = game.init_state\n",
    "while(not game.terminal_test(state)):\n",
    "    action = H_minimax(game, state, max_depth=100)\n",
    "    #assert action == alpha_beta(game, state)\n",
    "    state = game.result(state, action)\n",
    "    visualize(state)"
   ]
  }
 ],
 "metadata": {
  "colab": {
   "collapsed_sections": [],
   "name": "Elsayed Mostafa 201-700-316 - 04 - Adversarial Search.ipynb",
   "provenance": []
  },
  "kernelspec": {
   "display_name": "Python 3",
   "language": "python",
   "name": "python3"
  },
  "language_info": {
   "codemirror_mode": {
    "name": "ipython",
    "version": 3
   },
   "file_extension": ".py",
   "mimetype": "text/x-python",
   "name": "python",
   "nbconvert_exporter": "python",
   "pygments_lexer": "ipython3",
   "version": "3.8.5"
  }
 },
 "nbformat": 4,
 "nbformat_minor": 1
}
