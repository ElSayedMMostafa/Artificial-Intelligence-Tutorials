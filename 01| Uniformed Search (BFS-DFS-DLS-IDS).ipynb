{
 "cells": [
  {
   "cell_type": "markdown",
   "metadata": {
    "id": "vQcTxSvbf-bX"
   },
   "source": [
    "![alt text](https://zewailcity.edu.eg/main/images/logo3.png)\n",
    "\n",
    "_Prepared by_  [**Muhammad Hamdy AlAref**](mailto:malaref@zewailcity.edu.eg)"
   ]
  },
  {
   "cell_type": "markdown",
   "metadata": {
    "id": "F7FzI2o-8Trc"
   },
   "source": [
    "# Uninformed Search\n",
    "\n",
    "Uninformed search algorithms try to solve the problem using only its formulation without any specific knowledge about it. While they are general and, theoretically, can solve any solvable problem, they can be very inefficient!"
   ]
  },
  {
   "cell_type": "markdown",
   "metadata": {
    "id": "jvuLSRhVtMOI"
   },
   "source": [
    "## Problem Formulation\n",
    "\n",
    "Problem formulation is the first step in solving it! Basically, problem formulation is rephrasing the problem in a structure that can serve as input to a search algorithms. The following class gives a base for such structure!"
   ]
  },
  {
   "cell_type": "code",
   "execution_count": 1,
   "metadata": {
    "id": "IRHfjGsEuMb-"
   },
   "outputs": [],
   "source": [
    "class Problem:\n",
    "    '''\n",
    "    Abstract base class for problem formulation.\n",
    "    It declares the expected methods to be used by a search algorithm.\n",
    "    All the methods declared are just placeholders that throw errors if not overriden by child \"concrete\" classes!\n",
    "    '''\n",
    "    \n",
    "    def __init__(self):\n",
    "        '''Constructor that initializes the problem. Typically used to setup the initial state and, if applicable, the goal state.'''\n",
    "        self.init_state = None\n",
    "    \n",
    "    def actions(self, state):\n",
    "        '''Returns an iterable with the applicable actions to the given state.'''\n",
    "        raise NotImplementedError\n",
    "    \n",
    "    def result(self, state, action):\n",
    "        '''Returns the resulting state from applying the given action to the given state.'''\n",
    "        raise NotImplementedError\n",
    "    \n",
    "    def goal_test(self, state):\n",
    "        '''Returns whether or not the given state is a goal state.'''\n",
    "        raise NotImplementedError\n",
    "    \n",
    "    def step_cost(self, state, action):\n",
    "        '''Returns the step cost of applying the given action to the given state.'''\n",
    "        raise NotImplementedError"
   ]
  },
  {
   "cell_type": "markdown",
   "metadata": {
    "id": "0WRs9oOUuQ0O"
   },
   "source": [
    "## Node Data Structure\n",
    "\n",
    "Search algorithms construct trees or graphs of atomic states to try to reach their goal. To keep track of that, some bookkeeping is required. The following class encapsulates such bookkeeping capabilities!"
   ]
  },
  {
   "cell_type": "code",
   "execution_count": 2,
   "metadata": {
    "id": "4HD4u1fevQLG"
   },
   "outputs": [],
   "source": [
    "class Node:\n",
    "    '''Node data structure for search space bookkeeping.'''\n",
    "    \n",
    "    def __init__(self, state, parent, action, path_cost):\n",
    "        '''Constructor for the node state with the required parameters.'''\n",
    "        self.state = state\n",
    "        self.parent = parent\n",
    "        self.action = action\n",
    "        self.path_cost = path_cost\n",
    "\n",
    "    @classmethod\n",
    "    def root(cls, init_state):\n",
    "        '''Factory method to create the root node.'''\n",
    "        return cls(init_state, None, None, 0)\n",
    "\n",
    "    @classmethod\n",
    "    def child(cls, problem, parent, action):\n",
    "        '''Factory method to create a child node.'''\n",
    "        return cls(\n",
    "            problem.result(parent.state, action), #The resulting state\n",
    "            parent,\n",
    "            action,\n",
    "            parent.path_cost + problem.step_cost(parent.state, action))\n",
    "\n",
    "def solution(node):\n",
    "    '''A method to extract the sequence of actions representing the solution from the goal node.'''\n",
    "    actions = []\n",
    "    cost = node.path_cost\n",
    "    while node.parent is not None:\n",
    "        actions.append(node.action)\n",
    "        node = node.parent\n",
    "    actions.reverse()\n",
    "    return actions, cost"
   ]
  },
  {
   "cell_type": "markdown",
   "metadata": {
    "id": "gt2v2Bej5LVG"
   },
   "source": [
    "## Example Algorithm: Breadth-First Search (BFS)\n",
    "\n",
    "Breadth-first search is an uninformed algorithm that searches the state space level-by-level starting from the initial node, i.e., it starts by looking at the root node, then its children, its children's children after that, and so on! Here are example implementations for both its tree version and its graph version."
   ]
  },
  {
   "cell_type": "code",
   "execution_count": 3,
   "metadata": {
    "id": "z1oegnEt5NKd"
   },
   "outputs": [],
   "source": [
    "from collections import deque\n",
    "\n",
    "def bfs_tree(problem, verbose=False):\n",
    "    '''Breadth-first tree search implementation.'''\n",
    "    if problem.goal_test(problem.init_state): return solution(problem.init_state)\n",
    "    frontier = deque([Node.root(problem.init_state)])\n",
    "    if verbose: visualizer = Visualizer(problem)\n",
    "    while frontier:\n",
    "        if verbose: visualizer.visualize(frontier)\n",
    "        node = frontier.pop()\n",
    "        for action in problem.actions(node.state):\n",
    "            child = Node.child(problem, node, action)\n",
    "            if problem.goal_test(child.state):\n",
    "                return solution(child)\n",
    "            frontier.appendleft(child)\n",
    "\n",
    "def bfs_graph(problem, verbose=False):\n",
    "    '''Breadth-first graph search implementation.'''\n",
    "    if problem.goal_test(problem.init_state): return solution(problem.init_state)\n",
    "    frontier = deque([Node.root(problem.init_state)])\n",
    "    explored = {problem.init_state}\n",
    "    if verbose: visualizer = Visualizer(problem)\n",
    "    while frontier:\n",
    "        if verbose: visualizer.visualize(frontier)\n",
    "        node = frontier.pop()\n",
    "        for action in problem.actions(node.state):\n",
    "            child = Node.child(problem, node, action)\n",
    "            if child.state not in explored:\n",
    "                if problem.goal_test(child.state):\n",
    "                    return solution(child)\n",
    "                frontier.appendleft(child)\n",
    "                explored.add(child.state)"
   ]
  },
  {
   "cell_type": "markdown",
   "metadata": {
    "id": "PHiVNSlY5nY8"
   },
   "source": [
    "## Visualizer\n",
    "\n",
    "For those of you with sharp eyes, you may have notice a couple of differences from the book pseudo-code. A very obvious one it the `verbose` flag that enables the `Visualizer`! The `Visualizer` is just an auxiliary class that encapsulates some functionalities that can visualize the algorithm's progress. It greatly slows the algorithm down and it is only for illustration purposes! Here is its code, but feel free to skip it altogether!"
   ]
  },
  {
   "cell_type": "code",
   "execution_count": 4,
   "metadata": {
    "id": "aGfP_UtV7XGg"
   },
   "outputs": [],
   "source": [
    "from shutil import get_terminal_size\n",
    "terminal_width, _ = get_terminal_size()\n",
    "\n",
    "_visualizers = {}\n",
    "\n",
    "def _default_visualizer(_, state):\n",
    "    '''Generic visualizer for unknown problems.'''\n",
    "    print(state)\n",
    "\n",
    "class Visualizer:\n",
    "    '''Visualization and printing functionality encapsulation.'''\n",
    "\n",
    "    def __init__(self, problem):\n",
    "        '''Constructor with the problem to visualize.'''\n",
    "        self.problem = problem\n",
    "        self.counter = 0\n",
    "    \n",
    "    def visualize(self, frontier):\n",
    "        '''Visualizes the frontier at every step.'''\n",
    "        self.counter += 1\n",
    "        print(f'Frontier at step {self.counter}')\n",
    "        for node in frontier:\n",
    "            print()\n",
    "            _visualizers.get(type(self.problem), _default_visualizer)(self.problem, node.state)\n",
    "        print('-' * terminal_width)"
   ]
  },
  {
   "cell_type": "markdown",
   "metadata": {
    "id": "L8dTbakevdcW"
   },
   "source": [
    "## Example: Sliding Puzzle\n",
    "\n",
    "The [sliding puzzle](https://en.wikipedia.org/wiki/Sliding_puzzle) is a classic toy problem for search algorithms. It consists of a 2D tile board with one blank tile that the neighboring tiles can slide into to give new configurations of the board. Usually, initial and goal configurations are given and the search algorithm should figure out the steps to go from the initial to the goal."
   ]
  },
  {
   "cell_type": "code",
   "execution_count": 5,
   "metadata": {
    "id": "PELY8wsjz74L"
   },
   "outputs": [],
   "source": [
    "class SlidingPuzzle3x3(Problem):\n",
    "    '''3x3 Sliding Puzzle problem formulation.'''\n",
    "\n",
    "    def __init__(self, init_state, goal_state):\n",
    "        assert init_state.count(' ') == 1\n",
    "        assert goal_state.count(' ') == 1\n",
    "        self.init_state = tuple(init_state)\n",
    "        self._goal_state = tuple(goal_state)\n",
    "        self._action_values = {'up': -3, 'down': +3, 'left': -1, 'right': +1}\n",
    "    \n",
    "    def actions(self, state):\n",
    "        index = state.index(' ')\n",
    "        possible_moves = []\n",
    "        if index // 3 > 0:\n",
    "            possible_moves.append('up')\n",
    "        if index // 3 < 2:\n",
    "            possible_moves.append('down')\n",
    "        if index % 3 > 0:\n",
    "            possible_moves.append('left')\n",
    "        if index % 3 < 2:\n",
    "            possible_moves.append('right')\n",
    "        return possible_moves\n",
    "    \n",
    "    def result(self, state, action):\n",
    "        def swap(t, i, j):\n",
    "            '''Auxiliary function for swapping two elements in a tuple.'''\n",
    "            l = list(t)\n",
    "            l[i], l[j] = l[j], l[i]\n",
    "            return tuple(l)\n",
    "        index = state.index(' ')\n",
    "        return swap(state, index, index + self._action_values[action])\n",
    "    \n",
    "    def goal_test(self, state):\n",
    "        return state == self._goal_state\n",
    "    \n",
    "    def step_cost(self, state, action):\n",
    "        return 1\n",
    "\n",
    "def _sliding_puzzle_3x3_visualizer(problem, state):\n",
    "    '''Custom visualizer for the 3x3 sliding puzzle problem.'''\n",
    "    for i in range(0, 9, 3):\n",
    "        print(' ' + ' '.join(state[i:i + 3]) + ' ')\n",
    "\n",
    "_visualizers[SlidingPuzzle3x3] = _sliding_puzzle_3x3_visualizer"
   ]
  },
  {
   "cell_type": "markdown",
   "metadata": {
    "id": "0coGsQ1H_xN4"
   },
   "source": [
    "Let's try solving the sliding puzzle with BFS!"
   ]
  },
  {
   "cell_type": "code",
   "execution_count": 6,
   "metadata": {
    "id": "F18ovpXJ_S_J"
   },
   "outputs": [],
   "source": [
    "problem = SlidingPuzzle3x3('12345678 ', '123 56478')"
   ]
  },
  {
   "cell_type": "code",
   "execution_count": 7,
   "metadata": {
    "colab": {
     "base_uri": "https://localhost:8080/"
    },
    "id": "zSAZ062A_cs0",
    "outputId": "c52cd6ae-5fa8-445c-f178-96afb581d698"
   },
   "outputs": [
    {
     "data": {
      "text/plain": [
       "(['left', 'left', 'up'], 3)"
      ]
     },
     "execution_count": 7,
     "metadata": {},
     "output_type": "execute_result"
    }
   ],
   "source": [
    "bfs_graph(problem, verbose=False)"
   ]
  },
  {
   "cell_type": "code",
   "execution_count": 8,
   "metadata": {
    "colab": {
     "base_uri": "https://localhost:8080/"
    },
    "id": "3pDS1B8-_nbv",
    "outputId": "5980fd05-17bc-4213-a6a3-6a8251a2918a"
   },
   "outputs": [
    {
     "data": {
      "text/plain": [
       "(['left', 'left', 'up'], 3)"
      ]
     },
     "execution_count": 8,
     "metadata": {},
     "output_type": "execute_result"
    }
   ],
   "source": [
    "bfs_tree(problem, verbose=False)"
   ]
  },
  {
   "cell_type": "code",
   "execution_count": 9,
   "metadata": {
    "colab": {
     "base_uri": "https://localhost:8080/"
    },
    "id": "KRsNmeWuAKYJ",
    "outputId": "9c2a4d7a-fc88-4765-9a33-730ddb7ea842"
   },
   "outputs": [
    {
     "name": "stdout",
     "output_type": "stream",
     "text": [
      "None\n"
     ]
    }
   ],
   "source": [
    "another_problem = SlidingPuzzle3x3('12345678 ', '12345687 ')\n",
    "print(bfs_graph(another_problem))"
   ]
  },
  {
   "cell_type": "markdown",
   "metadata": {
    "id": "KgLoSFrkAYIK"
   },
   "source": [
    "What does that mean?"
   ]
  },
  {
   "cell_type": "markdown",
   "metadata": {
    "id": "-Qi00Vj1tcdc"
   },
   "source": [
    "## Requirement\n",
    "\n",
    "### Part A\n",
    "\n",
    "Let's re-solve the sliding puzzle problem with other uninformed search algorithms!\n",
    "\n",
    "You are required to write Python code that implements the following algorithms,\n",
    "\n",
    "1. Depth-First Search (DFS)\n",
    "2. Depth-Limited Search (DLS)\n",
    "3. Iterative Deepening Search (IDS)\n",
    "\n",
    "You may think this is a lot, but it is not! If you think about it, by implementing the right one first, the other two can be implemented in terms of it!\n",
    "\n",
    "After the algorithms are implemented, apply them to the sliding puzzle problem and compare the solutions they find with the one breadth-first search found!\n",
    "\n",
    "**HINT** For DFS and its variants, recursive implementations are easier and more straightforward!\n",
    "\n",
    "### Part B\n",
    "\n",
    "Can you formulate the problem of solving a *2D maze*?\n",
    "\n",
    "Problem formulation is a *major* part of solving it and it can be *deceivingly* simple! This exercises aims to help you practice it.\n",
    "\n",
    "Think about the best way to formulate the problem, i.e., proper _state_ and _actions_ representations! Then, implement the `Problem` class interface above.\n",
    "\n",
    "```python\n",
    "class Maze(Problem):\n",
    "    ...\n",
    "```\n",
    "\n",
    "Following is a sample for constructing a problem instance (NOT a state representation)!\n",
    "\n",
    "```python\n",
    "problem = Maze('''\n",
    "   #                #\n",
    "   #                #\n",
    "          ####      #\n",
    "  ##      #     #####\n",
    "  *#      #      +   \n",
    "''')\n",
    "```\n",
    "\n",
    "where `*` denotes the starting position (initial state), `+` denotes goals and `#` denotes obstacles. The line's length (number of characters) is the maze width (all the lines are of the same width) and the number of lines is the maze hight. Available actions are `up`, `down`, `left` and `right` provided the destination is not an obstacles or out of the maze bounds.\n",
    "\n",
    "After you are done, you should be able to solve a problem by calling any search algorithm. For example,\n",
    "\n",
    "```python\n",
    "bfs_graph(problem)\n",
    "```\n",
    "\n",
    "\n",
    "**Estimated time for this exercise is 1 hour!**"
   ]
  },
  {
   "cell_type": "markdown",
   "metadata": {
    "id": "6yGEd-5exGI2"
   },
   "source": [
    "## Part A: Solution"
   ]
  },
  {
   "cell_type": "markdown",
   "metadata": {},
   "source": [
    "### 1- DFS"
   ]
  },
  {
   "cell_type": "markdown",
   "metadata": {},
   "source": [
    "**Non-Recursive Implementation for DFS Tree and DFS Graph**"
   ]
  },
  {
   "cell_type": "code",
   "execution_count": 10,
   "metadata": {
    "id": "WQ9NAbT4xFb0"
   },
   "outputs": [],
   "source": [
    "def dfs_tree(problem, verbose=False):\n",
    "    '''Depth-first tree search implementation.'''\n",
    "    if problem.goal_test(problem.init_state): return solution(Node.root(problem.init_state))\n",
    "    frontier = deque([Node.root(problem.init_state)])\n",
    "    if verbose: visualizer = Visualizer(problem)\n",
    "    while frontier:\n",
    "        if verbose: visualizer.visualize(frontier)\n",
    "        node = frontier.popleft()\n",
    "        for action in problem.actions(node.state):\n",
    "            child = Node.child(problem, node, action)\n",
    "            if problem.goal_test(child.state):\n",
    "                return solution(child)\n",
    "            frontier.appendleft(child)\n",
    "\n",
    "def dfs_graph(problem, verbose=False):\n",
    "    '''Depthth-first graph search implementation.'''\n",
    "    if problem.goal_test(problem.init_state): return solution(Node.root(problem.init_state))\n",
    "    frontier = deque([Node.root(problem.init_state)])\n",
    "    explored = {problem.init_state}\n",
    "    if verbose: visualizer = Visualizer(problem)\n",
    "    while frontier:\n",
    "        if verbose: visualizer.visualize(frontier)\n",
    "        node = frontier.popleft()\n",
    "        for action in problem.actions(node.state):\n",
    "            child = Node.child(problem, node, action)\n",
    "            if child.state not in explored:\n",
    "                if problem.goal_test(child.state):\n",
    "                    return solution(child)\n",
    "                frontier.appendleft(child)\n",
    "                explored.add(child.state)"
   ]
  },
  {
   "cell_type": "markdown",
   "metadata": {},
   "source": [
    "**Alternatively, Recursive Implementation for DFS Tree and DFS Graph**"
   ]
  },
  {
   "cell_type": "code",
   "execution_count": 11,
   "metadata": {
    "id": "Xu955ocP2V7F"
   },
   "outputs": [],
   "source": [
    "def rec_dfs_tree(problem, verbose=False):\n",
    "    '''Depth-first tree search recursive implementation.'''\n",
    "    def Reverse(lst):\n",
    "        lst.reverse()\n",
    "        return lst\n",
    "    def recursive_procedure(node):\n",
    "        print(\"state= {}\".format(node.state))\n",
    "        ''' Base Case'''\n",
    "        if problem.goal_test(node.state):\n",
    "            return solution(node)\n",
    "        ''' Regular Case'''\n",
    "        for action in Reverse(problem.actions(node.state)):\n",
    "            child = Node.child(problem, node, action)\n",
    "            return(recursive_procedure(child))\n",
    "        \n",
    "    ''' Initial Base case'''\n",
    "    if problem.goal_test(problem.init_state): return solution(Node.root(problem.init_state))\n",
    "    initial_node = Node.root(problem.init_state)\n",
    "    if verbose: visualizer = Visualizer(problem)\n",
    "    return(recursive_procedure(initial_node))\n",
    "\n",
    "\n",
    "\n",
    "def rec_dfs_graph(problem, verbose=False):\n",
    "    '''Depth-first graph search recursive implementation.'''\n",
    "    def Reverse(lst):\n",
    "        # This REVERSE function is only here to have similar steps compared to the non-recursive implementaion\n",
    "        lst.reverse()\n",
    "        return lst\n",
    "    def recursive_procedure(explored, node):\n",
    "        explored.add(node.state)\n",
    "        ''' Base Case'''\n",
    "        if problem.goal_test(node.state):\n",
    "            return solution(node)\n",
    "        else:\n",
    "            ''' Regular Action'''\n",
    "            for action in Reverse(problem.actions(node.state)):\n",
    "                child = Node.child(problem, node, action)\n",
    "                if child.state not in explored:\n",
    "                    return(recursive_procedure(explored,child))\n",
    "    ''' Initial Base Case'''\n",
    "    if problem.goal_test(problem.init_state): return solution(problem.init_state)\n",
    "    initial_node = Node.root(problem.init_state)\n",
    "    explored = set()\n",
    "    # Go recursively\n",
    "    return(recursive_procedure(explored, initial_node))"
   ]
  },
  {
   "cell_type": "code",
   "execution_count": 12,
   "metadata": {},
   "outputs": [
    {
     "data": {
      "text/plain": [
       "(['left', 'left', 'up'], 3)"
      ]
     },
     "execution_count": 12,
     "metadata": {},
     "output_type": "execute_result"
    }
   ],
   "source": [
    "rec_dfs_graph(problem, verbose=True) "
   ]
  },
  {
   "cell_type": "code",
   "execution_count": 13,
   "metadata": {},
   "outputs": [
    {
     "name": "stdout",
     "output_type": "stream",
     "text": [
      "Frontier at step 1\n",
      "\n",
      " 1 2 3 \n",
      " 4 5 6 \n",
      " 7 8   \n",
      "--------------------------------------------------------------------------------\n",
      "Frontier at step 2\n",
      "\n",
      " 1 2 3 \n",
      " 4 5 6 \n",
      " 7   8 \n",
      "\n",
      " 1 2 3 \n",
      " 4 5   \n",
      " 7 8 6 \n",
      "--------------------------------------------------------------------------------\n",
      "Frontier at step 3\n",
      "\n",
      " 1 2 3 \n",
      " 4 5 6 \n",
      "   7 8 \n",
      "\n",
      " 1 2 3 \n",
      " 4   6 \n",
      " 7 5 8 \n",
      "\n",
      " 1 2 3 \n",
      " 4 5   \n",
      " 7 8 6 \n",
      "--------------------------------------------------------------------------------\n"
     ]
    },
    {
     "data": {
      "text/plain": [
       "(['left', 'left', 'up'], 3)"
      ]
     },
     "execution_count": 13,
     "metadata": {},
     "output_type": "execute_result"
    }
   ],
   "source": [
    "dfs_graph(problem, verbose=True)"
   ]
  },
  {
   "cell_type": "code",
   "execution_count": null,
   "metadata": {},
   "outputs": [],
   "source": [
    "dfs_tree(problem, verbose=True) #infinite loop"
   ]
  },
  {
   "cell_type": "code",
   "execution_count": null,
   "metadata": {},
   "outputs": [],
   "source": [
    "rec_dfs_tree(problem, verbose=True) #infinite loop (max. recursion depth exceeded)"
   ]
  },
  {
   "cell_type": "markdown",
   "metadata": {},
   "source": [
    "### 2- DLS"
   ]
  },
  {
   "cell_type": "code",
   "execution_count": 14,
   "metadata": {},
   "outputs": [],
   "source": [
    "def dls_tree(problem, limiting_depth):\n",
    "    '''Depth-limited tree search implementation.'''\n",
    "    def Reverse(lst):\n",
    "        lst.reverse()\n",
    "        return lst\n",
    "    def appendleft_list(stack, lst):\n",
    "        #Append list in\n",
    "        for item in Reverse(lst):\n",
    "            stack.appendleft(item)\n",
    "        return stack\n",
    "    \n",
    "    depth, flag = 0, 0\n",
    "    if problem.goal_test(problem.init_state): return solution(Node.root(problem.init_state))\n",
    "    frontier = deque([[Node.root(problem.init_state)]])\n",
    "    while frontier:\n",
    "        frontier_lst = []\n",
    "        nodes = frontier.popleft()\n",
    "        if flag:\n",
    "            depth -= 1\n",
    "        for node in nodes:\n",
    "            for action in problem.actions(node.state):\n",
    "                child = Node.child(problem, node, action)\n",
    "                if problem.goal_test(child.state):\n",
    "                    return solution(child)\n",
    "                frontier_lst.append(child) #FIFO (list append)\n",
    "        if depth < limiting_depth: \n",
    "            frontier.appendleft(frontier_lst)\n",
    "            depth += 1\n",
    "            flag = 0\n"
   ]
  },
  {
   "cell_type": "code",
   "execution_count": 15,
   "metadata": {},
   "outputs": [
    {
     "data": {
      "text/plain": [
       "(['left', 'left', 'up'], 3)"
      ]
     },
     "execution_count": 15,
     "metadata": {},
     "output_type": "execute_result"
    }
   ],
   "source": [
    "dls_tree(problem, 3)"
   ]
  },
  {
   "cell_type": "markdown",
   "metadata": {},
   "source": [
    "### 3- IDS"
   ]
  },
  {
   "cell_type": "code",
   "execution_count": 16,
   "metadata": {},
   "outputs": [],
   "source": [
    "def ids_tree(problem, depth_range):\n",
    "    for depth in depth_range:\n",
    "        sol = dls_tree(problem, depth)\n",
    "        if sol:\n",
    "            print('At depth= {}, got a solution {}'.format(depth, sol))\n",
    "            return sol\n",
    "        else:\n",
    "             print('At depth= {}, no solution found!'.format(depth))\n"
   ]
  },
  {
   "cell_type": "code",
   "execution_count": 17,
   "metadata": {},
   "outputs": [
    {
     "name": "stdout",
     "output_type": "stream",
     "text": [
      "At depth= 1, no solution found!\n",
      "At depth= 2, got a solution (['left', 'left', 'up'], 3)\n"
     ]
    },
    {
     "data": {
      "text/plain": [
       "(['left', 'left', 'up'], 3)"
      ]
     },
     "execution_count": 17,
     "metadata": {},
     "output_type": "execute_result"
    }
   ],
   "source": [
    "ids_tree(problem, range(1,10))"
   ]
  },
  {
   "cell_type": "markdown",
   "metadata": {},
   "source": [
    "## Part B: Solution"
   ]
  },
  {
   "cell_type": "markdown",
   "metadata": {},
   "source": [
    "To construct the maze Map, only enter a string whose length is M*N where M,N are the 2D maze dimension. For this specific implementation M=N=8. The string is read a row by row, i.e the first 8 chars represent the first row starting from the left column towards right one, the next 8 chars represent the second row, etc."
   ]
  },
  {
   "cell_type": "raw",
   "metadata": {},
   "source": [
    "The used symbols are: \n",
    "                        * : The starting point\n",
    "                        o : The goal point\n",
    "                        x : Obstacke\n",
    "                        \n",
    "For example, maze_map = maze_map = '  *      x x      xx      xxo      xx      xx      x      xx    ' is actually like this:\n",
    "     |  xx    |   \n",
    "     |   x    |\n",
    "     |   xx   |\n",
    "     |   xx   |\n",
    "     |  xxo   |\n",
    "     |  xx    |\n",
    "     | x x    |\n",
    "     |  *     |  \n"
   ]
  },
  {
   "cell_type": "code",
   "execution_count": 18,
   "metadata": {},
   "outputs": [
    {
     "name": "stdout",
     "output_type": "stream",
     "text": [
      "starting_position =[0, 2]\n",
      "goal_position =[3, 4]\n"
     ]
    }
   ],
   "source": [
    "import numpy as np\n",
    "class Maze(Problem):\n",
    "    '''Maze problem formulation.'''\n",
    "\n",
    "    def __init__(self, maze_map):\n",
    "        assert len(maze_map) == 64\n",
    "        self.init_state = [maze_map.find('*')//8, maze_map.find('*')%8]\n",
    "        self._goal_state = [maze_map.find('o')//8, maze_map.find('o')%8]\n",
    "        print('starting_position ={}'.format(self.init_state))\n",
    "        print('goal_position ={}'.format(self._goal_state))\n",
    "        self._action_values = {'up': [1,0], 'down': [-1,0], 'left': [0,-1], 'right': [0,1]}\n",
    "    \n",
    "    def actions(self, state):\n",
    "        row, col = state\n",
    "        possible_moves = []\n",
    "        if row != 7:\n",
    "            if maze_map[(row+1)*8 + col] != 'x':\n",
    "                possible_moves.append('up')\n",
    "        if row != 0:\n",
    "            if maze_map[(row-1)*8 + col] != 'x':\n",
    "                possible_moves.append('down')\n",
    "        if col != 0:\n",
    "            if maze_map[(row)*8 + col-1] != 'x':\n",
    "                possible_moves.append('left')\n",
    "        if col != 7:\n",
    "            if maze_map[(row)*8 + col+1] != 'x':\n",
    "                possible_moves.append('right')\n",
    "        return possible_moves\n",
    "    \n",
    "    def result(self, state, action):\n",
    "        return list(np.add(state, self._action_values[action]))\n",
    "    \n",
    "    def goal_test(self, state):\n",
    "        return state == self._goal_state\n",
    "    \n",
    "    def step_cost(self, state, action):\n",
    "        return 1\n",
    "\n",
    "maze_map = '  *      x x      xx      xxo      xx      xx      x      xx    '\n",
    "maze_problem = Maze(maze_map)"
   ]
  },
  {
   "cell_type": "code",
   "execution_count": 19,
   "metadata": {},
   "outputs": [
    {
     "name": "stdout",
     "output_type": "stream",
     "text": [
      "At depth= 1, no solution found!\n",
      "At depth= 2, no solution found!\n",
      "At depth= 3, no solution found!\n",
      "At depth= 4, got a solution (['right', 'right', 'up', 'up', 'up'], 5)\n"
     ]
    },
    {
     "data": {
      "text/plain": [
       "(['right', 'right', 'up', 'up', 'up'], 5)"
      ]
     },
     "execution_count": 19,
     "metadata": {},
     "output_type": "execute_result"
    }
   ],
   "source": [
    "ids_tree(maze_problem, range(1,10))"
   ]
  },
  {
   "cell_type": "code",
   "execution_count": 20,
   "metadata": {},
   "outputs": [
    {
     "data": {
      "text/plain": [
       "(['right', 'right', 'up', 'up', 'up'], 5)"
      ]
     },
     "execution_count": 20,
     "metadata": {},
     "output_type": "execute_result"
    }
   ],
   "source": [
    "bfs_tree(maze_problem)"
   ]
  }
 ],
 "metadata": {
  "colab": {
   "collapsed_sections": [],
   "name": "Elsayed Mostafa 201-700-316 - 01. Uninformed Search.ipynb",
   "provenance": []
  },
  "kernelspec": {
   "display_name": "Python 3",
   "language": "python",
   "name": "python3"
  },
  "language_info": {
   "codemirror_mode": {
    "name": "ipython",
    "version": 3
   },
   "file_extension": ".py",
   "mimetype": "text/x-python",
   "name": "python",
   "nbconvert_exporter": "python",
   "pygments_lexer": "ipython3",
   "version": "3.8.5"
  }
 },
 "nbformat": 4,
 "nbformat_minor": 1
}
