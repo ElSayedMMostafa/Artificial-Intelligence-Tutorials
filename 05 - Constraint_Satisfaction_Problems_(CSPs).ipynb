{
 "cells": [
  {
   "cell_type": "markdown",
   "metadata": {
    "id": "_AvpXdNrgWdL"
   },
   "source": [
    "![alt text](https://zewailcity.edu.eg/main/images/logo3.png)\n",
    "\n",
    "_Prepared by_  [**Muhammad Hamdy AlAref**](mailto:malaref@zewailcity.edu.eg)"
   ]
  },
  {
   "cell_type": "markdown",
   "metadata": {
    "id": "F7FzI2o-8Trc"
   },
   "source": [
    "# Constraint Satisfaction Problems (CSPs)\n",
    "\n",
    "All the search algorithms we discussed so far treat states as black boxes. However, we can gain a lot by using a *factored representation* instead! That is, we divide the state into a group of variables, their legal values, called the *domain*, and some constrains on those variable. A state is an *assignment* for some variables to values in the domain. An assignment is called *complete* if it includes *all* the variables and called *consistent* if it does not violate any of the constrains. A *solution* is a complete and consistent assignment.\n",
    "\n",
    "Problems formulated in this way are called *Constraint Satisfaction Problems (CSPs)*."
   ]
  },
  {
   "cell_type": "markdown",
   "metadata": {
    "id": "jvuLSRhVtMOI"
   },
   "source": [
    "## Problem Formulation\n",
    "\n",
    "Following is a simple CSP formulation derived directly from the definition!"
   ]
  },
  {
   "cell_type": "code",
   "execution_count": 1,
   "metadata": {
    "id": "IRHfjGsEuMb-"
   },
   "outputs": [],
   "source": [
    "class CSP:\n",
    "    '''\n",
    "    Abstract base class for constraint satisfaction problem (CSP) formulation.\n",
    "    It declares the expected methods to be used by a CSP search algorithm.\n",
    "    All the methods declared are just placeholders that throw errors if not overridden by child \"concrete\" classes!\n",
    "    '''\n",
    "    \n",
    "    def __init__(self):\n",
    "        '''Constructor that initializes the problem. Typically used to setup the variables domains.'''\n",
    "        self.domains = None  # A list of all the variables domains\n",
    "                             # domains[0] is the set of values for the first variable\n",
    "                             # domains[1] is the set of values for the second variable\n",
    "                             # and so on...      \n",
    "    \n",
    "    def consistent(self, assignment, variable, value):\n",
    "        '''Returns whether or not the given new variable/value pair is consistent with an already consistent assignment.'''\n",
    "        raise NotImplementedError\n",
    "    \n",
    "    def related_variables(self, variable):\n",
    "        '''Returns all the variables sharing a constraint with a variable. Only needed for inference.'''\n",
    "        raise NotImplementedError"
   ]
  },
  {
   "cell_type": "markdown",
   "metadata": {
    "id": "gt2v2Bej5LVG"
   },
   "source": [
    "## Backtracking\n",
    "\n",
    "Backtracking is a general depth-first search for solving CSPs. It finds solutions by assigning a value to one variable at a time and *backtracks* when no legal values are left for some variable to try alternative values for the previous assignments."
   ]
  },
  {
   "cell_type": "code",
   "execution_count": 2,
   "metadata": {
    "id": "z1oegnEt5NKd"
   },
   "outputs": [],
   "source": [
    "def backtracking(csp, verbose=False):\n",
    "    '''Backtracking search implementation.'''\n",
    "    if verbose: visualizer = Visualizer(csp)\n",
    "    def backtrack(assignment):  # The recursive backtracking function with a partial assignment; assumes the assignment is always consistent\n",
    "        if verbose: visualizer.visualize([assignment])\n",
    "        if len(assignment) is len(csp.domains):  # Terminal condition: If the assignment is complete (all variables are assigned)\n",
    "            return assignment  # Then, the assignment is complete; return it and you're done!\n",
    "        variable = len(assignment)  # The next unassigned variable index\n",
    "        for value in csp.domains[variable]:  # Iterating through all possible values in the variable's domain\n",
    "            if csp.consistent(assignment, variable, value):  # If the new variable/value pair is consistent with the (already consistent) assignment\n",
    "                assignment[variable] = value  # Add the new variable/value pair to assignment (the resulting assignment is guaranteed to be consistent)\n",
    "                result = backtrack(assignment)  # Use the new resulting assignment to recursively call the function to try the next variable (if any)\n",
    "                if result is not None:  # If the function returns with a consistent and complete assignment (solution)\n",
    "                    return result  # Then, return this assignment (solution)\n",
    "                del assignment[variable]  # Otherwise, remove the new variable/value pair and try another value\n",
    "        return None  # If all the values fail, then there is no solution with this partial assignment\n",
    "    return backtrack({})  # Start with an empty assignment (always consistent)"
   ]
  },
  {
   "cell_type": "markdown",
   "metadata": {
    "id": "RF5QX1ohGqoF"
   },
   "source": [
    "## Visualization\n",
    "\n",
    "As always, we have some code to help us visualize the problem! We will be using our good-old visualizer!"
   ]
  },
  {
   "cell_type": "code",
   "execution_count": 3,
   "metadata": {
    "id": "oqXF0mgGHIr5"
   },
   "outputs": [],
   "source": [
    "from shutil import get_terminal_size\n",
    "terminal_width, _ = get_terminal_size()\n",
    "\n",
    "_visualizers = {}\n",
    "\n",
    "def _default_visualizer(_, state):\n",
    "    '''Generic visualizer for unknown problems.'''\n",
    "    print(state)\n",
    "\n",
    "class Visualizer:\n",
    "    '''Visualization and printing functionality encapsulation.'''\n",
    "\n",
    "    def __init__(self, problem):\n",
    "        '''Constructor with the problem to visualize.'''\n",
    "        self.problem = problem\n",
    "        self.counter = 0\n",
    "    \n",
    "    def visualize(self, frontier):\n",
    "        '''Visualizes the frontier at every step.'''\n",
    "        self.counter += 1\n",
    "        print(f'Frontier at step {self.counter}')\n",
    "        for state in frontier:\n",
    "            print()\n",
    "            _visualizers.get(type(self.problem), _default_visualizer)(self.problem, state)\n",
    "        print('-' * terminal_width)\n",
    "\n",
    "def _sudoku_visualizer(problem, state):\n",
    "    '''Custom visualizer for the sudoku puzzle CSP.'''\n",
    "    for i in range(9):\n",
    "        for j in range(3):\n",
    "            for k in range(3):\n",
    "                print(state.get(9 * i + 3 * j + k, 0), end=' ')\n",
    "            if j < 2: print('|', end=' ')\n",
    "        print()\n",
    "        if i % 3 == 2 and i < 8: print('------+-------+------')"
   ]
  },
  {
   "cell_type": "markdown",
   "metadata": {
    "id": "L8dTbakevdcW"
   },
   "source": [
    "## Example Problem: Sudoku Puzzle\n",
    "\n",
    "To illustrate the backtracking algorithm, we will use the problem that, unknowingly, introduced all newspaper readers to CSPs; the [Sudoku puzzle](https://en.wikipedia.org/wiki/Sudoku)."
   ]
  },
  {
   "cell_type": "code",
   "execution_count": 4,
   "metadata": {
    "id": "PELY8wsjz74L"
   },
   "outputs": [],
   "source": [
    "class Sudoku(CSP):\n",
    "    '''Sudoku Puzzle CSP formulation.'''\n",
    "\n",
    "    def __init__(self, partial=None):\n",
    "        self.domains = []\n",
    "        for i in range(81):  # We have 81 variables in Sudoku\n",
    "            if partial is None or int(partial[i]) == 0:  # If there are no initial constraints on this variables (or no initial constraints are given at all)\n",
    "                self.domains.append(set(range(1, 10)))  # Then, add all the possible values to its domain (1 to 9 inclusive)\n",
    "            else:\n",
    "                self.domains.append({int(partial[i])})  # Otherwise, make its initial value its one and only possible value\n",
    "\n",
    "    def related_variables(self, variable):\n",
    "        row = variable // 9  # The row of the variable\n",
    "        col = variable % 9  # The column of the variable\n",
    "        anchor = 27 * (variable // 27) + 3 * (col // 3)  # The top left corner of the box of the variable\n",
    "        related_variables_list = [] # A list to hold all related variables\n",
    "        related_variables_list.extend(range(col, 81, 9))  # Add all variables in the same column\n",
    "        related_variables_list.extend(range(row * 9, (row + 1) * 9, 1))  # Add all variables in the same row\n",
    "        for i in range(3):  # Iterating through all rows in a box\n",
    "            related_variables_list.extend(range(anchor + i * 9, anchor + i * 9 + 3, 1))  # Add all variables in that row of the box\n",
    "        return related_variables_list\n",
    "    \n",
    "    def consistent(self, assignment, variable, value):\n",
    "        for i in self.related_variables(variable):  # Iterating through all related variables\n",
    "            if assignment.get(i) == value:  # If a related variable has the same value\n",
    "                return False  # Then, the new variable/value pair is not consistent with the (already consistent) assignment\n",
    "        return True  # If execution reaches this point, then no related variable has the same value; that is, the new variable/value pair is consistent with the (already consistent) assignment\n",
    "\n",
    "_visualizers[Sudoku] = _sudoku_visualizer"
   ]
  },
  {
   "cell_type": "code",
   "execution_count": null,
   "metadata": {},
   "outputs": [],
   "source": [
    "csp = Sudoku()\n",
    "sol = backtracking(csp, True)"
   ]
  },
  {
   "cell_type": "markdown",
   "metadata": {
    "id": "0coGsQ1H_xN4"
   },
   "source": [
    "Let's try solving the Sudoku puzzle with backtracking search!"
   ]
  },
  {
   "cell_type": "code",
   "execution_count": 6,
   "metadata": {
    "colab": {
     "base_uri": "https://localhost:8080/",
     "height": 1000
    },
    "id": "zSAZ062A_cs0",
    "outputId": "ec721023-0138-4dd6-cdd4-6b9f918fa2ed"
   },
   "outputs": [
    {
     "name": "stdout",
     "output_type": "stream",
     "text": [
      "Frontier at step 1\n",
      "\n",
      "1 2 3 | 4 5 6 | 7 8 9 \n",
      "4 5 6 | 7 8 9 | 1 2 3 \n",
      "7 8 9 | 1 2 3 | 4 5 6 \n",
      "------+-------+------\n",
      "2 1 4 | 3 6 5 | 8 9 7 \n",
      "3 6 5 | 8 9 7 | 2 1 4 \n",
      "8 9 7 | 2 1 4 | 3 6 5 \n",
      "------+-------+------\n",
      "5 3 1 | 6 4 2 | 9 7 8 \n",
      "6 4 2 | 9 7 8 | 5 3 1 \n",
      "9 7 8 | 5 3 1 | 6 4 2 \n",
      "--------------------------------------------------------------------------------\n"
     ]
    }
   ],
   "source": [
    "csp = Sudoku()\n",
    "sol = backtracking(csp)\n",
    "\n",
    "visualizer = Visualizer(csp)\n",
    "visualizer.visualize([sol])"
   ]
  },
  {
   "cell_type": "markdown",
   "metadata": {
    "id": "NrWJ1YpOnckH"
   },
   "source": [
    "## Speeding-up Backtracking\n",
    "\n",
    "One of the benefits of CSP formulation is that useful heuristics can be derived irrespective of the problem itself! We are going to look at one famous heuristic for each of the types we mentioned.\n",
    "\n",
    "For variable ordering, a famous one is the *minimum-remaining-values (MRV)* heuristic. It chooses the variable with the minimum legal values left in its domain (given the problem constraints). This mirrors what humans do when solving CSPs by hand, e.g. newspaper Sudoku problems. Another useful one is the *degree* heuristic. It chooses the variable that enforces the largest number of constraints on other unassigned variables. In practice, this serves as a good tie breaker for MRV, especially in the first steps.\n",
    "\n",
    "For interweaving inferences, *forward-checking* is a very simple one. It establishes *arc consistency* for a variable *whenever we assign it* by removing illegal values from all the domains of the variables involved with it in a constraint. This is especially helpful with aforementioned MRV heuristic since it basically provides the information MRV needs to work!\n",
    "\n",
    "A more complicated inference algorithm is called *AC-3*. Unlike forward-checking, it establishes arc consistency for *all* the variables instead of one variable at a time. Using (a variant of) AC-3 interwoven with backtracking yields an algorithm called *Maintaining Arc Consistency (MAC)*.\n",
    "\n",
    "Here are implementations for the MRV and the forward-checking heuristics!"
   ]
  },
  {
   "cell_type": "code",
   "execution_count": 7,
   "metadata": {
    "id": "dLqXg8PjV_SV"
   },
   "outputs": [],
   "source": [
    "from math import inf\n",
    "from copy import deepcopy\n",
    "\n",
    "def select_unassigned_variable(domains):  # A straightforward implementation of the MRV heuristic\n",
    "    '''Returns the next unassigned variable to be considered.'''\n",
    "    variable = None  # The variable to be considered next\n",
    "    minimum = inf  # Initiate the minimum number of values in a variable's domain to infinity (since any variable will have less values than that)\n",
    "    for i, domain in enumerate(domains):  # Iterating through all the variables domains (remaining values)\n",
    "        if domain is not None and len(domain) < minimum:  # If an unassigned variable's number of remaining values is less the minimum seen so far\n",
    "            variable = i  # Then, set this variable as the one to be considered next\n",
    "            minimum = len(domain)  # And set its number of remaining values as the minimum seen so far\n",
    "    return variable\n",
    "\n",
    "def inference(csp, variable, value, domains):  # A straightforward implementation of forward checking inference (arc consistency)\n",
    "    '''Returns inferences and filtered domains based on the new variable/value pair.'''\n",
    "    inferences = {}\n",
    "    filtered_domains = deepcopy(domains)  # Initialize the new filtered domains are the given ones\n",
    "    filtered_domains[variable] = None  # Remove the domain of the given variable (mark it as assigned)\n",
    "    for related_variable in csp.related_variables(variable):  # Iterating through all related variables\n",
    "        if filtered_domains[related_variable]:  # If the related variable's domain is not yet removed (it is not yet assigned)\n",
    "            filtered_domains[related_variable].discard(value)  # Remove the given value from the related variable's domain\n",
    "            if len(filtered_domains[related_variable]) == 0:  # If the related variable's domain becomes empty\n",
    "                return None  # Then, this new variable/value pair will cause an inconsistency later; better stop now\n",
    "            if len(filtered_domains[related_variable]) == 1:  # If the related variable's domain becomes narrowed down to ONE value\n",
    "                inferences[related_variable] = filtered_domains[related_variable].pop()  # Then, this related variable is \"inferred\" to be assigned to this value\n",
    "                filtered_domains[related_variable] = None  # Remove the inferred related variable's domain\n",
    "                # Once a value is assigned to a variable, it must be removed from the related variables to this variable\n",
    "                # to maintain consistency.\n",
    "                for re_related_variables in csp.related_variables(related_variable):\n",
    "                    if filtered_domains[re_related_variables]:\n",
    "                        filtered_domains[re_related_variables].discard(inferences[related_variable])\n",
    "    return inferences, filtered_domains\n"
   ]
  },
  {
   "cell_type": "markdown",
   "metadata": {
    "id": "grtFj8G5VBMx"
   },
   "source": [
    "Backtracking *works* but we can speed it up with heuristics to *guide* it just like informed search! We are going to discuss two types of heuristics; *variables ordering* and *interweaving inferences*. (Inferences can be used as pre-processors before running backtracking. However, they can be really useful when run before each step as well.) There are other heuristics to be included that you are encouraged to learn about, e.g., *values ordering*, *intelligent backtracking*, etc., but they are out of the scope of this notebook."
   ]
  },
  {
   "cell_type": "markdown",
   "metadata": {
    "id": "vWvB_xBEP2jK"
   },
   "source": [
    "We can then modify the backtracking algorithm to make use of such heuristics!"
   ]
  },
  {
   "cell_type": "code",
   "execution_count": 8,
   "metadata": {
    "id": "AYDEYiKcO4KZ"
   },
   "outputs": [],
   "source": [
    "def backtracking_speeded(csp, verbose=False):\n",
    "    '''Backtracking search implementation.'''\n",
    "    if verbose: visualizer = Visualizer(csp)\n",
    "    def backtrack(assignment, domains):  # The recursive backtracking function with a partial assignment and current variables domains; assumes the assignment is always consistent\n",
    "        if verbose: visualizer.visualize([assignment])\n",
    "        if len(assignment) == len(csp.domains):  # Terminal condition: If the assignment is complete (all variables are assigned)\n",
    "            return assignment  # Then, the assignment is complete; return it and you're done!\n",
    "        var = select_unassigned_variable(domains)  # Choose the next unassigned variable to be considered\n",
    "        for value in domains[var]:  # Iterating through all possible values in the variable's CURRENT domain\n",
    "            if csp.consistent(assignment, var, value):  # If the new variable/value pair is consistent with the (already consistent) assignment\n",
    "                inferences, filtered_domains = inference(csp, var, value, domains)  # Based on this new variable/value pair, infer the new domains of coming variables (and possibly their exact (corollary) assignments if their domains are narrowed down to one possible value)\n",
    "                if inferences is None:  # If an inconsistency is detected during inference\n",
    "                    continue  # Then, no need to go further; this value is no good\n",
    "                assignment[var] = value  # Add the new variable/value pair to assignment (the resulting assignment is guaranteed to be consistent)\n",
    "                assignment.update(inferences)  # Add the extra inferences to assignment (the resulting assignment is guaranteed to be consistent)\n",
    "                result = backtrack(assignment, filtered_domains)  # Use the new resulting assignment and domains to recursively call the function to try the next variable (if any)\n",
    "                if result is not None:  # If the function returns with a consistent and complete assignment (solution)\n",
    "                    return result  # Then, return this assignment (solution)\n",
    "                del assignment[var]  # Otherwise, remove the new variable/value pair and try another value\n",
    "                for var in inferences:  # Also, remove the extra inferences based on that new variable/value pair\n",
    "                    del assignment[var]\n",
    "        return None\n",
    "    return backtrack({}, csp.domains)"
   ]
  },
  {
   "cell_type": "code",
   "execution_count": 9,
   "metadata": {
    "scrolled": true
   },
   "outputs": [
    {
     "name": "stdout",
     "output_type": "stream",
     "text": [
      "Frontier at step 2\n",
      "\n",
      "1 2 3 | 4 5 6 | 8 9 7 \n",
      "4 5 6 | 7 8 9 | 1 2 3 \n",
      "8 9 7 | 1 2 3 | 4 5 6 \n",
      "------+-------+------\n",
      "2 3 1 | 9 7 4 | 5 6 8 \n",
      "6 4 9 | 5 1 8 | 3 7 2 \n",
      "5 7 8 | 6 3 2 | 9 1 4 \n",
      "------+-------+------\n",
      "9 1 2 | 8 4 7 | 6 3 5 \n",
      "3 8 5 | 2 6 1 | 7 4 9 \n",
      "7 6 4 | 3 9 5 | 2 8 1 \n",
      "--------------------------------------------------------------------------------\n"
     ]
    }
   ],
   "source": [
    "csp = Sudoku()\n",
    "assignment = backtracking_speeded(csp)\n",
    "visualizer.visualize([assignment])"
   ]
  },
  {
   "cell_type": "markdown",
   "metadata": {
    "id": "GEkhz3Q9vX1B"
   },
   "source": [
    "Now, let's try the new implementation with the difficult instance!"
   ]
  },
  {
   "cell_type": "code",
   "execution_count": 10,
   "metadata": {
    "colab": {
     "base_uri": "https://localhost:8080/",
     "height": 35
    },
    "id": "RSWP_-1wPyZR",
    "outputId": "46bbce3b-460d-4e0c-8989-9fb3e7659991"
   },
   "outputs": [
    {
     "name": "stdout",
     "output_type": "stream",
     "text": [
      "7.91 ms ± 437 µs per loop (mean ± std. dev. of 7 runs, 100 loops each)\n"
     ]
    }
   ],
   "source": [
    "csp = Sudoku('\\\n",
    "530070000\\\n",
    "600195000\\\n",
    "098000060\\\n",
    "800060003\\\n",
    "400803001\\\n",
    "700020006\\\n",
    "060000280\\\n",
    "000419005\\\n",
    "000080079')\n",
    "\n",
    "%timeit backtracking_speeded(csp)"
   ]
  },
  {
   "cell_type": "markdown",
   "metadata": {},
   "source": [
    "I tried the previous SUDOKU instance with the original backtracking implementation and it took more than 10 minutes to finish!! "
   ]
  },
  {
   "cell_type": "markdown",
   "metadata": {
    "id": "mTmCsDEjeiDo"
   },
   "source": [
    "## Requirement\n",
    "\n",
    "Let's try solving another famous CSP puzzle; the [Zebra Puzzle](https://en.wikipedia.org/wiki/Zebra_Puzzle) (aka, Einstein's Riddle)!\n",
    "\n",
    "Following is the puzzle description as appeared in *Life International* in 1962:\n",
    "\n",
    "* There are five houses.\n",
    "* The Englishman lives in the red house.\n",
    "* The Spaniard owns the dog.\n",
    "* Coffee is drunk in the green house.\n",
    "* The Ukrainian drinks tea.\n",
    "* The green house is immediately to the right of the ivory house.\n",
    "* The Old Gold smoker owns snails.\n",
    "* Kools are smoked in the yellow house.\n",
    "* Milk is drunk in the middle house.\n",
    "* The Norwegian lives in the first house.\n",
    "* The man who smokes Chesterfields lives in the house next to the man with the fox.\n",
    "* Kools are smoked in the house next to the house where the horse is kept.\n",
    "* The Lucky Strike smoker drinks orange juice.\n",
    "* The Japanese smokes Parliaments.\n",
    "* The Norwegian lives next to the blue house.\n",
    "\n",
    "**Who drinks water? Who owns the zebra?**\n",
    "\n",
    "You are required to write Python code that implements this riddle and use backtracking search to answer the question!\n",
    "\n",
    "**Estimated time for this exercise is 30 minutes!**"
   ]
  },
  {
   "cell_type": "markdown",
   "metadata": {},
   "source": [
    "Firstly, I'm converting the sentences into a list of tubles, where each tuble contains 3 values as follows <br>\n",
    "**(value1 in house 1, value 2 in house 2, relation between house 1 and house 2)** <br>\n",
    "\n",
    "These constraints are considered as inputs to the constructor and used in the function 'consistent' to check if each assignmet contradicts with any contraint or not."
   ]
  },
  {
   "cell_type": "code",
   "execution_count": 11,
   "metadata": {},
   "outputs": [
    {
     "data": {
      "text/plain": [
       "[('english', 'red', '0'),\n",
       " ('spain', 'dog', '0'),\n",
       " ('coffee', 'green', '0'),\n",
       " ('ukraine', 'tea', '0'),\n",
       " ('green', 'ivory', 'right'),\n",
       " ('old gold', 'snails', '0'),\n",
       " ('kools', 'yellow', '0'),\n",
       " ('milk', None, 'middle'),\n",
       " ('norway', None, 'first'),\n",
       " ('chesterfields', 'fox', 'next'),\n",
       " ('kools', 'horse', 'next'),\n",
       " ('lucky strike', 'orange juice', '0'),\n",
       " ('japan', 'parliaments', '0'),\n",
       " ('norway', 'blue', 'next')]"
      ]
     },
     "execution_count": 11,
     "metadata": {},
     "output_type": "execute_result"
    }
   ],
   "source": [
    "constraints = [('english', 'red', '0'), ('spain', 'dog', '0'), ('coffee', 'green', '0'), ('ukraine', 'tea', '0')\n",
    "              ,('green', 'ivory', 'right'), ('old gold', 'snails', '0'), ('kools', 'yellow', '0'), ('milk', None, 'middle'),\n",
    "              ('norway', None, 'first'),('chesterfields','fox','next'), ('kools', 'horse', 'next'), ('lucky strike', 'orange juice', '0')\n",
    "              , ('japan', 'parliaments', '0'),('norway', 'blue', 'next')]\n",
    "constraints"
   ]
  },
  {
   "cell_type": "code",
   "execution_count": 16,
   "metadata": {},
   "outputs": [],
   "source": [
    "class einstein_riddle(CSP):\n",
    "    'Class for Einstein''s riddle problem as constraint satisfaction problem '\n",
    "\n",
    "    def __init__(self, constraints=None):\n",
    "        # self.category = {'NATION':0,'SMOKE':1, 'DRINK':2, 'COLOR':3, 'ANIMAL':4}\n",
    "        self.constraints = constraints\n",
    "        self.nations = {'english', 'spain', 'ukraine', 'norway', 'japan'}\n",
    "        self.smokes = {'old gold', 'kools', 'lucky strike', 'chesterfields', 'parliaments'}\n",
    "        self.drinks = {'tea', 'milk', 'orange juice', 'coffee', 'water'}\n",
    "        self.colors = {'red', 'blue', 'green', 'ivory', 'yellow'}\n",
    "        self.animals = {'fox', 'horse', 'snails', 'dog', 'zebra'}\n",
    "        self.categories = [self.nations, self.smokes, self.drinks, self.colors, self.animals]\n",
    "\n",
    "        # Creating the problem domain..\n",
    "        domains = [self.nations] * 5\n",
    "        domains.extend([self.smokes] * 5)\n",
    "        domains.extend([self.drinks] * 5)\n",
    "        domains.extend([self.colors] * 5)\n",
    "        domains.extend([self.animals] * 5)\n",
    "        self.domains = [domains[i] for i in range(len(domains))]\n",
    "        # self.domains = {i+1: (None,)*4 for i in range(5)}\n",
    "\n",
    "    def consistent(self, assignment, variable, value):\n",
    "        # Get the range for the related variables then check the consistency\n",
    "        for var in self.related_variables(variable):\n",
    "            if assignment.get(var) == value:\n",
    "                return False\n",
    "        variable_house = variable % 5\n",
    "        for constraint in self.related_constraints(value):\n",
    "            pos = constraint[2]\n",
    "            if None not in constraint:\n",
    "                (other_value, value_idx) = (constraint[0],1) if constraint[1]==value else (constraint[1],0)\n",
    "                #other_value = constraint[1]\n",
    "                if pos == '0':\n",
    "                    other_value_assigned = assignment.get(variable_house + 5 * self.get_category(other_value))\n",
    "                    if other_value_assigned != other_value and other_value_assigned is not None:\n",
    "                        return False\n",
    "                elif pos == 'right':\n",
    "                    other_value_assigned = assignment.get(variable_house - 1 + (2*value_idx) + 5 * self.get_category(other_value))\n",
    "                    if other_value_assigned != other_value and other_value_assigned is not None:\n",
    "                        return False\n",
    "                elif pos == 'next':\n",
    "                    if variable_house == 0:\n",
    "                        other_values_assigned = [assignment.get(variable_house + 1 + 5 * self.get_category(other_value))]\n",
    "                    elif variable_house == 4:\n",
    "                        other_values_assigned = [assignment.get(variable_house + 1 + 5 * self.get_category(other_value))]\n",
    "                    else:\n",
    "                        other_value_assigned1 = assignment.get(variable_house - 1 + 5 * self.get_category(other_value))\n",
    "                        other_value_assigned2 = assignment.get(variable_house + 1 + 5 * self.get_category(other_value))\n",
    "                        other_values_assigned = (other_value_assigned1, other_value_assigned2)\n",
    "                    if other_value not in other_values_assigned and None not in other_values_assigned:\n",
    "                        return False\n",
    "            else:\n",
    "                if pos == 'middle':\n",
    "                    if variable_house != 2:\n",
    "                        return False\n",
    "                elif pos == 'first':\n",
    "                    if variable_house != 0:\n",
    "                        return False\n",
    "\n",
    "        return True\n",
    "\n",
    "    def related_variables(self, variable):\n",
    "        return list(range(variable // 5 * 5, variable // 5 * 5 + 5))\n",
    "\n",
    "    def get_category(self, value):\n",
    "        return [i for i, list_ in enumerate(self.categories) if value in list_][0]\n",
    "\n",
    "    def related_constraints(self, value):\n",
    "        if not self.constraints: return []\n",
    "        return [constraint for constraint in self.constraints if value in constraint]\n",
    "\n",
    "def _riddle_visualizer(problem, state):\n",
    "    '''Custom visualizer for the einstein''s riddle CSP.'''\n",
    "    for i in range(25):\n",
    "        if i%5==0 and i != 0: print()\n",
    "        printed = state.get(i, ' '*16)\n",
    "        print(printed+ ' '*(16-len(printed)),end='|')\n",
    "_visualizers[einstein_riddle] = _riddle_visualizer"
   ]
  },
  {
   "cell_type": "code",
   "execution_count": 17,
   "metadata": {},
   "outputs": [
    {
     "name": "stdout",
     "output_type": "stream",
     "text": [
      "Frontier at step 1\n",
      "\n",
      "norway          |ukraine         |english         |spain           |japan           |\n",
      "kools           |chesterfields   |old gold        |lucky strike    |parliaments     |\n",
      "water           |tea             |milk            |orange juice    |coffee          |\n",
      "yellow          |blue            |red             |ivory           |green           |\n",
      "fox             |horse           |snails          |dog             |zebra           |--------------------------------------------------------------------------------\n"
     ]
    }
   ],
   "source": [
    "riddle = einstein_riddle(constraints)\n",
    "sol = backtracking(riddle)\n",
    "\n",
    "visualizer = Visualizer(riddle)\n",
    "visualizer.visualize([sol])"
   ]
  },
  {
   "cell_type": "markdown",
   "metadata": {},
   "source": [
    "Therefore, the answers are:\n",
    "> **The Norwegian drinks water** <br>\n",
    "> **The Japanese owns zebra**"
   ]
  }
 ],
 "metadata": {
  "colab": {
   "collapsed_sections": [],
   "name": "Elsayed Mostafa 201-700-316 - 05. Constraint Satisfaction Problems (CSPs).ipynb",
   "provenance": []
  },
  "kernelspec": {
   "display_name": "Python 3",
   "language": "python",
   "name": "python3"
  },
  "language_info": {
   "codemirror_mode": {
    "name": "ipython",
    "version": 3
   },
   "file_extension": ".py",
   "mimetype": "text/x-python",
   "name": "python",
   "nbconvert_exporter": "python",
   "pygments_lexer": "ipython3",
   "version": "3.8.5"
  }
 },
 "nbformat": 4,
 "nbformat_minor": 1
}
